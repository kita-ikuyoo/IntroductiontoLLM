{
 "cells": [
  {
   "cell_type": "code",
   "id": "6e9a03b3-51ef-4b30-9605-1918e801e57d",
   "metadata": {
    "ExecuteTime": {
     "end_time": "2025-08-06T07:33:37.361096Z",
     "start_time": "2025-08-06T07:33:34.296549Z"
    }
   },
   "source": "from transformers import AutoTokenizer",
   "outputs": [],
   "execution_count": 1
  },
  {
   "metadata": {
    "ExecuteTime": {
     "end_time": "2025-08-06T07:33:40.058798Z",
     "start_time": "2025-08-06T07:33:39.402331Z"
    }
   },
   "cell_type": "code",
   "source": "tokenizer=AutoTokenizer.from_pretrained(\"abeja/gpt2-large-japanese\")",
   "id": "834f9e998fd1df39",
   "outputs": [
    {
     "name": "stderr",
     "output_type": "stream",
     "text": [
      "You are using the default legacy behaviour of the <class 'transformers.models.t5.tokenization_t5.T5Tokenizer'>. This is expected, and simply means that the `legacy` (previous) behavior will be used so nothing changes for you. If you want to use the new behaviour, set `legacy=False`. This should only be set if you understand what it means, and thoroughly read the reason why this was added as explained in https://github.com/huggingface/transformers/pull/24565\n"
     ]
    }
   ],
   "execution_count": 2
  },
  {
   "metadata": {
    "ExecuteTime": {
     "end_time": "2025-08-06T07:35:18.380058Z",
     "start_time": "2025-08-06T07:35:18.363450Z"
    }
   },
   "cell_type": "code",
   "source": "tokenizer.tokenize(\"今日はいい天気ですね\")",
   "id": "8223c7d6ed4b757c",
   "outputs": [
    {
     "data": {
      "text/plain": [
       "['▁', '今日', 'は', 'いい', '天気', 'です', 'ね']"
      ]
     },
     "execution_count": 3,
     "metadata": {},
     "output_type": "execute_result"
    }
   ],
   "execution_count": 3
  },
  {
   "metadata": {
    "ExecuteTime": {
     "end_time": "2025-08-06T07:32:53.620535Z",
     "start_time": "2025-08-06T07:32:53.470226Z"
    }
   },
   "cell_type": "code",
   "source": "!pip install transformers[sentencepiece]",
   "id": "6bc2409622b0eb81",
   "outputs": [
    {
     "name": "stdout",
     "output_type": "stream",
     "text": [
      "zsh:1: no matches found: transformers[sentencepiece]\r\n"
     ]
    }
   ],
   "execution_count": 19
  },
  {
   "metadata": {
    "ExecuteTime": {
     "end_time": "2025-08-11T01:05:28.647329Z",
     "start_time": "2025-08-11T01:05:28.643226Z"
    }
   },
   "cell_type": "code",
   "source": "G = [[] for i in range(5)]",
   "id": "6b9c57a1d8c04464",
   "outputs": [],
   "execution_count": 6
  },
  {
   "metadata": {
    "ExecuteTime": {
     "end_time": "2025-08-11T01:05:30.768864Z",
     "start_time": "2025-08-11T01:05:30.765067Z"
    }
   },
   "cell_type": "code",
   "source": "G",
   "id": "3e051ad708b88328",
   "outputs": [
    {
     "data": {
      "text/plain": [
       "[[], [], [], [], []]"
      ]
     },
     "execution_count": 7,
     "metadata": {},
     "output_type": "execute_result"
    }
   ],
   "execution_count": 7
  },
  {
   "metadata": {
    "ExecuteTime": {
     "end_time": "2025-08-11T01:05:56.835450Z",
     "start_time": "2025-08-11T01:05:56.828903Z"
    }
   },
   "cell_type": "code",
   "source": "G[1].append((2, 2 * 1))",
   "id": "ff2dec1f1d579d66",
   "outputs": [],
   "execution_count": 8
  },
  {
   "metadata": {
    "ExecuteTime": {
     "end_time": "2025-08-11T01:05:58.349342Z",
     "start_time": "2025-08-11T01:05:58.344822Z"
    }
   },
   "cell_type": "code",
   "source": "G",
   "id": "d3b59d853abb5661",
   "outputs": [
    {
     "data": {
      "text/plain": [
       "[[], [(2, 2)], [], [], []]"
      ]
     },
     "execution_count": 9,
     "metadata": {},
     "output_type": "execute_result"
    }
   ],
   "execution_count": 9
  },
  {
   "metadata": {
    "ExecuteTime": {
     "end_time": "2025-08-11T01:06:13.406646Z",
     "start_time": "2025-08-11T01:06:13.399865Z"
    }
   },
   "cell_type": "code",
   "source": "type((2, 2 * 1))",
   "id": "9e9c8894c4f8066e",
   "outputs": [
    {
     "data": {
      "text/plain": [
       "tuple"
      ]
     },
     "execution_count": 10,
     "metadata": {},
     "output_type": "execute_result"
    }
   ],
   "execution_count": 10
  },
  {
   "metadata": {
    "ExecuteTime": {
     "end_time": "2025-08-11T01:08:52.677729Z",
     "start_time": "2025-08-11T01:08:52.655815Z"
    }
   },
   "cell_type": "code",
   "source": "cnt = [[0] * 2 for i in range(4)]",
   "id": "36042cc30d666158",
   "outputs": [],
   "execution_count": 11
  },
  {
   "metadata": {
    "ExecuteTime": {
     "end_time": "2025-08-11T01:08:54.982441Z",
     "start_time": "2025-08-11T01:08:54.979696Z"
    }
   },
   "cell_type": "code",
   "source": "cnt",
   "id": "a475f515c5d34e8b",
   "outputs": [
    {
     "data": {
      "text/plain": [
       "[[0, 0], [0, 0], [0, 0], [0, 0]]"
      ]
     },
     "execution_count": 12,
     "metadata": {},
     "output_type": "execute_result"
    }
   ],
   "execution_count": 12
  },
  {
   "metadata": {
    "ExecuteTime": {
     "end_time": "2025-08-11T01:09:45.355546Z",
     "start_time": "2025-08-11T01:09:45.353396Z"
    }
   },
   "cell_type": "code",
   "source": [
    "from collections import deque\n",
    "dq = deque([(0, 0, -1)])\n"
   ],
   "id": "5e2d5ebf3042fc48",
   "outputs": [],
   "execution_count": 14
  },
  {
   "metadata": {
    "ExecuteTime": {
     "end_time": "2025-08-11T01:09:51.496336Z",
     "start_time": "2025-08-11T01:09:51.493789Z"
    }
   },
   "cell_type": "code",
   "source": "d, v, e = dq.popleft()",
   "id": "e4db591726afef0c",
   "outputs": [],
   "execution_count": 15
  },
  {
   "metadata": {
    "ExecuteTime": {
     "end_time": "2025-08-11T01:09:54.163475Z",
     "start_time": "2025-08-11T01:09:54.160633Z"
    }
   },
   "cell_type": "code",
   "source": "d,v,e",
   "id": "5397e6090a84f8e7",
   "outputs": [
    {
     "data": {
      "text/plain": [
       "(0, 0, -1)"
      ]
     },
     "execution_count": 16,
     "metadata": {},
     "output_type": "execute_result"
    }
   ],
   "execution_count": 16
  },
  {
   "metadata": {
    "ExecuteTime": {
     "end_time": "2025-08-11T01:10:02.787908Z",
     "start_time": "2025-08-11T01:10:02.785832Z"
    }
   },
   "cell_type": "code",
   "source": "d",
   "id": "2a6e7b27d4765d36",
   "outputs": [
    {
     "data": {
      "text/plain": [
       "0"
      ]
     },
     "execution_count": 17,
     "metadata": {},
     "output_type": "execute_result"
    }
   ],
   "execution_count": 17
  },
  {
   "metadata": {
    "ExecuteTime": {
     "end_time": "2025-08-11T01:16:22.144068Z",
     "start_time": "2025-08-11T01:16:22.130210Z"
    }
   },
   "cell_type": "code",
   "source": [
    "a = 5     # binary:  0101\n",
    "b = 3     # binary:  0011\n",
    "c = a ^ b # result:  0110  (which is 6)\n",
    "print(c)  # 6"
   ],
   "id": "fdf40ef02a6eb43d",
   "outputs": [
    {
     "name": "stdout",
     "output_type": "stream",
     "text": [
      "6\n"
     ]
    }
   ],
   "execution_count": 18
  },
  {
   "metadata": {
    "ExecuteTime": {
     "end_time": "2025-08-15T07:48:37.511282Z",
     "start_time": "2025-08-15T07:48:37.438612Z"
    }
   },
   "cell_type": "code",
   "source": "import numpy as np",
   "id": "d15490ba33c97b8c",
   "outputs": [],
   "execution_count": 1
  },
  {
   "metadata": {
    "ExecuteTime": {
     "end_time": "2025-08-15T08:15:50.455400Z",
     "start_time": "2025-08-15T08:15:50.450591Z"
    }
   },
   "cell_type": "code",
   "source": "K,D=(50,64)",
   "id": "b55e9fb2f8ecfe05",
   "outputs": [],
   "execution_count": 23
  },
  {
   "metadata": {
    "ExecuteTime": {
     "end_time": "2025-08-15T10:24:28.633017Z",
     "start_time": "2025-08-15T10:24:28.629616Z"
    }
   },
   "cell_type": "code",
   "source": [
    "pos_enc=np.zeros((D,K))\n",
    "pos_enc"
   ],
   "id": "668a8b74bc0c1078",
   "outputs": [
    {
     "data": {
      "text/plain": [
       "array([[0., 0., 0., ..., 0., 0., 0.],\n",
       "       [0., 0., 0., ..., 0., 0., 0.],\n",
       "       [0., 0., 0., ..., 0., 0., 0.],\n",
       "       ...,\n",
       "       [0., 0., 0., ..., 0., 0., 0.],\n",
       "       [0., 0., 0., ..., 0., 0., 0.],\n",
       "       [0., 0., 0., ..., 0., 0., 0.]])"
      ]
     },
     "execution_count": 47,
     "metadata": {},
     "output_type": "execute_result"
    }
   ],
   "execution_count": 47
  },
  {
   "metadata": {
    "ExecuteTime": {
     "end_time": "2025-08-15T10:24:35.659969Z",
     "start_time": "2025-08-15T10:24:35.654904Z"
    }
   },
   "cell_type": "code",
   "source": [
    "for i in range(D):\n",
    "    for j in range(K):\n",
    "        if(i%2==0):\n",
    "            pos_enc[i][j]=np.sin(j/(10000**(i/D)))\n",
    "        else:\n",
    "            pos_enc[i][j]=np.cos(j/(10000**((i-1)/D)))\n",
    "# pos_enc=np.zeros((K,D))\n",
    "# for i in range(K):\n",
    "#     for k in range(D//2):\n",
    "#         theta=i/(10000**(2*k)/D)\n",
    "#         pos_enc[i][2*k]=np.sin(theta)\n",
    "#         pos_enc[i][2*k+1]=np.cos(theta)"
   ],
   "id": "f3302d8160bf9507",
   "outputs": [],
   "execution_count": 48
  },
  {
   "metadata": {
    "ExecuteTime": {
     "end_time": "2025-08-15T10:24:37.296101Z",
     "start_time": "2025-08-15T10:24:37.292582Z"
    }
   },
   "cell_type": "code",
   "source": "pos_enc",
   "id": "2ea63aebdaa08a92",
   "outputs": [
    {
     "data": {
      "text/plain": [
       "array([[ 0.00000000e+00,  8.41470985e-01,  9.09297427e-01, ...,\n",
       "         1.23573123e-01, -7.68254661e-01, -9.53752653e-01],\n",
       "       [ 1.00000000e+00,  5.40302306e-01, -4.16146837e-01, ...,\n",
       "        -9.92335469e-01, -6.40144339e-01,  3.00592544e-01],\n",
       "       [ 0.00000000e+00,  6.81561350e-01,  9.97479998e-01, ...,\n",
       "        -6.34613764e-01, -9.91116276e-01, -8.15906662e-01],\n",
       "       ...,\n",
       "       [ 1.00000000e+00,  9.99999984e-01,  9.99999937e-01, ...,\n",
       "         9.99965073e-01,  9.99963571e-01,  9.99962037e-01],\n",
       "       [ 0.00000000e+00,  1.33352143e-04,  2.66704283e-04, ...,\n",
       "         6.26750970e-03,  6.40085917e-03,  6.53420852e-03],\n",
       "       [ 1.00000000e+00,  9.99999991e-01,  9.99999964e-01, ...,\n",
       "         9.99980359e-01,  9.99979514e-01,  9.99978652e-01]])"
      ]
     },
     "execution_count": 49,
     "metadata": {},
     "output_type": "execute_result"
    }
   ],
   "execution_count": 49
  },
  {
   "metadata": {
    "ExecuteTime": {
     "end_time": "2025-08-15T10:24:47.928491Z",
     "start_time": "2025-08-15T10:24:47.854468Z"
    }
   },
   "cell_type": "code",
   "source": [
    "import matplotlib.pyplot as plt\n",
    "im=plt.imshow(pos_enc.T,cmap='gray')\n",
    "plt.colorbar()\n",
    "plt.show()"
   ],
   "id": "49dbf8d6e988e001",
   "outputs": [
    {
     "data": {
      "text/plain": [
       "<Figure size 640x480 with 2 Axes>"
      ],
      "image/png": "[encoded data removed]"
     },
     "metadata": {},
     "output_type": "display_data"
    }
   ],
   "execution_count": 50
  },
  {
   "metadata": {
    "ExecuteTime": {
     "end_time": "2025-08-15T10:24:54.748060Z",
     "start_time": "2025-08-15T10:24:54.743331Z"
    }
   },
   "cell_type": "code",
   "source": [
    "naiseki=np.matmul(pos_enc.T,pos_enc)\n",
    "naiseki"
   ],
   "id": "3953debb3e0e0c6c",
   "outputs": [
    {
     "data": {
      "text/plain": [
       "array([[32.        , 30.91683166, 28.303862  , ..., 14.61110829,\n",
       "        14.51723443, 15.2134844 ],\n",
       "       [30.91683166, 32.        , 30.91683166, ..., 15.91257648,\n",
       "        14.61110829, 14.51723443],\n",
       "       [28.303862  , 30.91683166, 32.        , ..., 17.81457869,\n",
       "        15.91257648, 14.61110829],\n",
       "       ...,\n",
       "       [14.61110829, 15.91257648, 17.81457869, ..., 32.        ,\n",
       "        30.91683166, 28.303862  ],\n",
       "       [14.51723443, 14.61110829, 15.91257648, ..., 30.91683166,\n",
       "        32.        , 30.91683166],\n",
       "       [15.2134844 , 14.51723443, 14.61110829, ..., 28.303862  ,\n",
       "        30.91683166, 32.        ]])"
      ]
     },
     "execution_count": 51,
     "metadata": {},
     "output_type": "execute_result"
    }
   ],
   "execution_count": 51
  },
  {
   "metadata": {
    "ExecuteTime": {
     "end_time": "2025-08-15T10:25:00.258254Z",
     "start_time": "2025-08-15T10:25:00.193873Z"
    }
   },
   "cell_type": "code",
   "source": [
    "plt.imshow(naiseki.T,cmap='gray')\n",
    "plt.colorbar()\n",
    "plt.show()"
   ],
   "id": "c62464fd69e3039d",
   "outputs": [
    {
     "data": {
      "text/plain": [
       "<Figure size 640x480 with 2 Axes>"
      ],
      "image/png": "[encoded data removed]"
     },
     "metadata": {},
     "output_type": "display_data"
    }
   ],
   "execution_count": 52
  },
  {
   "metadata": {
    "ExecuteTime": {
     "end_time": "2025-08-15T10:22:47.203835Z",
     "start_time": "2025-08-15T10:22:47.197331Z"
    }
   },
   "cell_type": "code",
   "source": [
    "pos_enc=np.zeros((K,D))\n",
    "for i in range(K):\n",
    "    for k in range(D//2):\n",
    "        theta=i/(10000**((2*k)/D))\n",
    "        if(i==1 and k==0):\n",
    "            print(theta)\n",
    "            print(np.sin(theta))\n",
    "        pos_enc[i][2*k]=np.sin(theta)\n",
    "        pos_enc[i][2*k+1]=np.cos(theta)"
   ],
   "id": "465d0382ac12abf0",
   "outputs": [
    {
     "name": "stdout",
     "output_type": "stream",
     "text": [
      "1.0\n",
      "0.8414709848078965\n"
     ]
    }
   ],
   "execution_count": 44
  },
  {
   "metadata": {
    "ExecuteTime": {
     "end_time": "2025-08-15T10:23:30.360688Z",
     "start_time": "2025-08-15T10:23:30.358370Z"
    }
   },
   "cell_type": "code",
   "source": "pos_enc.T",
   "id": "bed301cc78d56bbc",
   "outputs": [
    {
     "data": {
      "text/plain": [
       "array([[ 0.00000000e+00,  8.41470985e-01,  9.09297427e-01, ...,\n",
       "         1.23573123e-01, -7.68254661e-01, -9.53752653e-01],\n",
       "       [ 1.00000000e+00,  5.40302306e-01, -4.16146837e-01, ...,\n",
       "        -9.92335469e-01, -6.40144339e-01,  3.00592544e-01],\n",
       "       [ 0.00000000e+00,  6.81561350e-01,  9.97479998e-01, ...,\n",
       "        -6.34613764e-01, -9.91116276e-01, -8.15906662e-01],\n",
       "       ...,\n",
       "       [ 1.00000000e+00,  9.99999984e-01,  9.99999937e-01, ...,\n",
       "         9.99965073e-01,  9.99963571e-01,  9.99962037e-01],\n",
       "       [ 0.00000000e+00,  1.33352143e-04,  2.66704283e-04, ...,\n",
       "         6.26750970e-03,  6.40085917e-03,  6.53420852e-03],\n",
       "       [ 1.00000000e+00,  9.99999991e-01,  9.99999964e-01, ...,\n",
       "         9.99980359e-01,  9.99979514e-01,  9.99978652e-01]])"
      ]
     },
     "execution_count": 45,
     "metadata": {},
     "output_type": "execute_result"
    }
   ],
   "execution_count": 45
  },
  {
   "metadata": {
    "ExecuteTime": {
     "end_time": "2025-08-15T10:20:19.697872Z",
     "start_time": "2025-08-15T10:20:19.693830Z"
    }
   },
   "cell_type": "code",
   "source": "",
   "id": "5e36eb3039e5b227",
   "outputs": [
    {
     "data": {
      "text/plain": [
       "array([[0., 0., 0., ..., 0., 0., 0.],\n",
       "       [1., 0., 0., ..., 0., 0., 0.],\n",
       "       [0., 0., 0., ..., 0., 0., 0.],\n",
       "       ...,\n",
       "       [0., 0., 0., ..., 0., 0., 0.],\n",
       "       [0., 0., 0., ..., 0., 0., 0.],\n",
       "       [0., 0., 0., ..., 0., 0., 0.]])"
      ]
     },
     "execution_count": 35,
     "metadata": {},
     "output_type": "execute_result"
    }
   ],
   "execution_count": 35
  },
  {
   "metadata": {},
   "cell_type": "code",
   "outputs": [],
   "execution_count": null,
   "source": "",
   "id": "7457d07f0e1e77b"
  }
 ],
 "metadata": {
  "kernelspec": {
   "display_name": "Python [conda env:base] *",
   "language": "python",
   "name": "conda-base-py"
  },
  "language_info": {
   "codemirror_mode": {
    "name": "ipython",
    "version": 3
   },
   "file_extension": ".py",
   "mimetype": "text/x-python",
   "name": "python",
   "nbconvert_exporter": "python",
   "pygments_lexer": "ipython3",
   "version": "3.12.7"
  }
 },
 "nbformat": 4,
 "nbformat_minor": 5
}
